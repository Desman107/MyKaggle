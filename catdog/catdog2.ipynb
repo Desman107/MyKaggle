{
 "cells": [
  {
   "cell_type": "code",
   "execution_count": 2,
   "metadata": {},
   "outputs": [],
   "source": [
    "import torch\n",
    "import torch.nn as nn\n",
    "import torch.nn.functional as F\n",
    "\n",
    "class SimpleCNN(nn.Module):\n",
    "    def __init__(self):\n",
    "        super(SimpleCNN, self).__init__()\n",
    "        self.conv1 = nn.Conv2d(3, 16, kernel_size=3, padding=1)\n",
    "        self.conv2 = nn.Conv2d(16, 32, kernel_size=3, padding=1)\n",
    "        self.conv3 = nn.Conv2d(32, 64, kernel_size=3, padding=1)\n",
    "        self.pool = nn.MaxPool2d(2, 2)\n",
    "        self.fc1 = nn.Linear(64 * 32 * 32, 512)\n",
    "        self.fc2 = nn.Linear(512, 2)\n",
    "\n",
    "    def forward(self, x):\n",
    "        x = self.pool(F.relu(self.conv1(x)))\n",
    "        x = self.pool(F.relu(self.conv2(x)))\n",
    "        x = self.pool(F.relu(self.conv3(x)))\n",
    "        x = x.view(-1, 64 * 32 * 32)\n",
    "        x = F.relu(self.fc1(x))\n",
    "        x = self.fc2(x)\n",
    "        return x\n",
    "device = torch.device(\"cuda:0\")\n",
    "model = SimpleCNN()\n",
    "model.load_state_dict(torch.load('./cnn.pth'))\n",
    "\n",
    "# 将模型设置为评估模式\n",
    "model.eval()\n",
    "\n",
    "# 确保模型在正确的设备上\n",
    "model.to(device)\n",
    "import os\n",
    "from PIL import Image\n",
    "\n",
    "test_path = 'E:/Kaggle/dog vs cat/test1/test1'\n",
    "image_lists = os.listdir(test_path)\n",
    "pre = []\n",
    "for image_list in image_lists:\n",
    "    index = os.path.splitext(image_list)[0]\n",
    "    image_path = os.path.join(test_path, image_list)\n",
    "    image = Image.open(image_path)\n",
    "    image = image.convert('RGB')\n",
    "    img_tensor = transform(image).unsqueeze(0).to(device)\n",
    "    outputs = model(image)\n",
    "    _, predicted = torch.max(outputs.data, 1)\n",
    "    pre.append([index, predicted.item()])"
   ]
  }
 ],
 "metadata": {
  "kernelspec": {
   "display_name": "base",
   "language": "python",
   "name": "python3"
  },
  "language_info": {
   "codemirror_mode": {
    "name": "ipython",
    "version": 3
   },
   "file_extension": ".py",
   "mimetype": "text/x-python",
   "name": "python",
   "nbconvert_exporter": "python",
   "pygments_lexer": "ipython3",
   "version": "3.10.9"
  }
 },
 "nbformat": 4,
 "nbformat_minor": 2
}
